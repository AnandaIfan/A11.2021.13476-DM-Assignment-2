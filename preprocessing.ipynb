{
  "cells": [
    {
      "cell_type": "code",
      "execution_count": 83,
      "metadata": {
        "id": "q93Uurjosy1q"
      },
      "outputs": [],
      "source": [
        "import numpy as np\n",
        "import matplotlib.pyplot as plt\n",
        "import pandas as pd"
      ]
    },
    {
      "cell_type": "code",
      "execution_count": 84,
      "metadata": {
        "id": "tA-Xk2jyudfq"
      },
      "outputs": [],
      "source": [
        "dataset = pd.read_csv('Data.csv')\n",
        "x = dataset.iloc[:, :-1].values\n",
        "y = dataset.iloc[:, -1].values"
      ]
    },
    {
      "cell_type": "code",
      "execution_count": 85,
      "metadata": {
        "colab": {
          "base_uri": "https://localhost:8080/"
        },
        "id": "WRkOdF3LufPK",
        "outputId": "44857c1b-0085-446c-c358-834357b536a8"
      },
      "outputs": [
        {
          "output_type": "stream",
          "name": "stdout",
          "text": [
            "[['Indonesia' 44.0 62000.0]\n",
            " ['Brazil' 40.0 94000.0]\n",
            " ['China' 22.0 73000.0]\n",
            " ['Indonesia' 21.0 81000.0]\n",
            " ['China' 12.0 nan]\n",
            " ['Brazil' 35.0 28000.0]\n",
            " ['Brazil' nan 52000.0]\n",
            " ['Indonesia' 32.0 79000.0]\n",
            " ['China' 14.0 99000.0]\n",
            " ['Indonesia' 26.0 73000.0]]\n"
          ]
        }
      ],
      "source": [
        "print(x)"
      ]
    },
    {
      "cell_type": "code",
      "execution_count": 86,
      "metadata": {
        "colab": {
          "base_uri": "https://localhost:8080/"
        },
        "id": "oEarKmkcugE6",
        "outputId": "13ebafa4-0c17-48b3-df65-a377f0f23e5a"
      },
      "outputs": [
        {
          "output_type": "stream",
          "name": "stdout",
          "text": [
            "['Ya' 'Ya' 'Ya' 'Tidak' 'Ya' 'Tidak' 'Tidak' 'Ya' 'Tidak' 'Tidak']\n"
          ]
        }
      ],
      "source": [
        "print(y)"
      ]
    },
    {
      "cell_type": "code",
      "source": [
        "from sklearn.impute import SimpleImputer\n",
        "imputer = SimpleImputer(missing_values=np.nan, strategy='mean')\n",
        "imputer.fit(x[:, 1:3])\n",
        "x[:, 1:3] = imputer.transform(x[:, 1:3])"
      ],
      "metadata": {
        "id": "nphrG49s_vu7"
      },
      "execution_count": 87,
      "outputs": []
    },
    {
      "cell_type": "code",
      "source": [
        "print(x)"
      ],
      "metadata": {
        "colab": {
          "base_uri": "https://localhost:8080/"
        },
        "id": "we8W-kEO_xkx",
        "outputId": "f041c323-a44e-4e8f-8b64-693084204609"
      },
      "execution_count": 88,
      "outputs": [
        {
          "output_type": "stream",
          "name": "stdout",
          "text": [
            "[['Indonesia' 44.0 62000.0]\n",
            " ['Brazil' 40.0 94000.0]\n",
            " ['China' 22.0 73000.0]\n",
            " ['Indonesia' 21.0 81000.0]\n",
            " ['China' 12.0 71222.22222222222]\n",
            " ['Brazil' 35.0 28000.0]\n",
            " ['Brazil' 27.333333333333332 52000.0]\n",
            " ['Indonesia' 32.0 79000.0]\n",
            " ['China' 14.0 99000.0]\n",
            " ['Indonesia' 26.0 73000.0]]\n"
          ]
        }
      ]
    },
    {
      "cell_type": "code",
      "source": [
        "from sklearn.compose import ColumnTransformer\n",
        "from sklearn.preprocessing import OneHotEncoder\n",
        "ct = ColumnTransformer(transformers=[('encoder', OneHotEncoder(), [0])], remainder='passthrough')\n",
        "x = np.array(ct.fit_transform(x))"
      ],
      "metadata": {
        "id": "d3sgEJt__0fp"
      },
      "execution_count": 89,
      "outputs": []
    },
    {
      "cell_type": "code",
      "source": [
        "print(x)"
      ],
      "metadata": {
        "colab": {
          "base_uri": "https://localhost:8080/"
        },
        "id": "CjTWBxgQ_2Yh",
        "outputId": "9bd0df13-cb86-419b-8a36-5a3b63df3950"
      },
      "execution_count": 90,
      "outputs": [
        {
          "output_type": "stream",
          "name": "stdout",
          "text": [
            "[[0.0 0.0 1.0 44.0 62000.0]\n",
            " [1.0 0.0 0.0 40.0 94000.0]\n",
            " [0.0 1.0 0.0 22.0 73000.0]\n",
            " [0.0 0.0 1.0 21.0 81000.0]\n",
            " [0.0 1.0 0.0 12.0 71222.22222222222]\n",
            " [1.0 0.0 0.0 35.0 28000.0]\n",
            " [1.0 0.0 0.0 27.333333333333332 52000.0]\n",
            " [0.0 0.0 1.0 32.0 79000.0]\n",
            " [0.0 1.0 0.0 14.0 99000.0]\n",
            " [0.0 0.0 1.0 26.0 73000.0]]\n"
          ]
        }
      ]
    },
    {
      "cell_type": "code",
      "source": [
        "from sklearn.preprocessing import LabelEncoder\n",
        "le = LabelEncoder()\n",
        "y = le.fit_transform(y)"
      ],
      "metadata": {
        "id": "ZGKNuHLU_7sR"
      },
      "execution_count": 91,
      "outputs": []
    },
    {
      "cell_type": "code",
      "source": [
        "print(y)"
      ],
      "metadata": {
        "colab": {
          "base_uri": "https://localhost:8080/"
        },
        "id": "suQsCF4W_96p",
        "outputId": "051eb2b2-3ec4-4140-a594-df46086f67b5"
      },
      "execution_count": 92,
      "outputs": [
        {
          "output_type": "stream",
          "name": "stdout",
          "text": [
            "[1 1 1 0 1 0 0 1 0 0]\n"
          ]
        }
      ]
    },
    {
      "cell_type": "code",
      "source": [
        "from sklearn.model_selection import train_test_split\n",
        "x_train, x_test, y_train, y_test = train_test_split(x, y, test_size=0.2, random_state=1)"
      ],
      "metadata": {
        "id": "BABk1uyn__uB"
      },
      "execution_count": 93,
      "outputs": []
    },
    {
      "cell_type": "code",
      "source": [
        "print(x_train)"
      ],
      "metadata": {
        "colab": {
          "base_uri": "https://localhost:8080/"
        },
        "id": "M4meAgREF74R",
        "outputId": "42b72b26-eea5-4604-be21-9b80fc38a113"
      },
      "execution_count": 94,
      "outputs": [
        {
          "output_type": "stream",
          "name": "stdout",
          "text": [
            "[[1.0 0.0 0.0 27.333333333333332 52000.0]\n",
            " [0.0 1.0 0.0 12.0 71222.22222222222]\n",
            " [0.0 0.0 1.0 44.0 62000.0]\n",
            " [0.0 0.0 1.0 21.0 81000.0]\n",
            " [1.0 0.0 0.0 40.0 94000.0]\n",
            " [0.0 0.0 1.0 32.0 79000.0]\n",
            " [0.0 1.0 0.0 14.0 99000.0]\n",
            " [1.0 0.0 0.0 35.0 28000.0]]\n"
          ]
        }
      ]
    },
    {
      "cell_type": "code",
      "source": [
        "print(x_test)"
      ],
      "metadata": {
        "colab": {
          "base_uri": "https://localhost:8080/"
        },
        "id": "6KN-rPSVF__p",
        "outputId": "4ee91398-c8d1-4222-ca30-c332598db61d"
      },
      "execution_count": 95,
      "outputs": [
        {
          "output_type": "stream",
          "name": "stdout",
          "text": [
            "[[0.0 1.0 0.0 22.0 73000.0]\n",
            " [0.0 0.0 1.0 26.0 73000.0]]\n"
          ]
        }
      ]
    },
    {
      "cell_type": "code",
      "source": [
        "print(y_train)"
      ],
      "metadata": {
        "colab": {
          "base_uri": "https://localhost:8080/"
        },
        "id": "7V1_nIiZGfPa",
        "outputId": "ab7d02d9-2a6a-4008-f366-ddb40b02b457"
      },
      "execution_count": 96,
      "outputs": [
        {
          "output_type": "stream",
          "name": "stdout",
          "text": [
            "[0 1 1 0 1 1 0 0]\n"
          ]
        }
      ]
    },
    {
      "cell_type": "code",
      "source": [
        "print(y_test)"
      ],
      "metadata": {
        "colab": {
          "base_uri": "https://localhost:8080/"
        },
        "id": "JcixDyXyGDaJ",
        "outputId": "4b7aa446-0b78-42df-b045-741ffc6a18bd"
      },
      "execution_count": 97,
      "outputs": [
        {
          "output_type": "stream",
          "name": "stdout",
          "text": [
            "[1 0]\n"
          ]
        }
      ]
    },
    {
      "cell_type": "code",
      "source": [
        "from sklearn.preprocessing import StandardScaler\n",
        "sc = StandardScaler()\n",
        "x_train[:, 3:] = sc.fit_transform(x_train[:, 3:])\n",
        "x_test[:, 3:] = sc.transform(x_test[:, 3:])"
      ],
      "metadata": {
        "id": "b7NZo62IGGMT"
      },
      "execution_count": 98,
      "outputs": []
    },
    {
      "cell_type": "code",
      "source": [
        "print(x_train)"
      ],
      "metadata": {
        "colab": {
          "base_uri": "https://localhost:8080/"
        },
        "id": "7lwD_02lGIYp",
        "outputId": "7e3850bf-648c-4c1e-c384-b50de8b35e05"
      },
      "execution_count": 99,
      "outputs": [
        {
          "output_type": "stream",
          "name": "stdout",
          "text": [
            "[[1.0 0.0 0.0 -0.07582723791092233 -0.8652740192466486]\n",
            " [0.0 1.0 0.0 -1.471048415471895 0.02047985844370736]\n",
            " [0.0 0.0 1.0 1.4407175203075266 -0.40447720426322636]\n",
            " [0.0 0.0 1.0 -0.6521142460339328 0.4710367442052759]\n",
            " [1.0 0.0 0.0 1.0767467783350988 1.070072603683725]\n",
            " [0.0 0.0 1.0 0.34880529439024344 0.3788773812085915]\n",
            " [0.0 1.0 0.0 -1.2890630444856812 1.300471011175436]\n",
            " [1.0 0.0 0.0 0.6217833508695643 -1.971186375206862]]\n"
          ]
        }
      ]
    },
    {
      "cell_type": "code",
      "source": [
        "print(x_test)"
      ],
      "metadata": {
        "colab": {
          "base_uri": "https://localhost:8080/"
        },
        "id": "1mntSkGlGKFS",
        "outputId": "9c38e781-41f6-41f1-ab2e-463d18c02aef"
      },
      "execution_count": 100,
      "outputs": [
        {
          "output_type": "stream",
          "name": "stdout",
          "text": [
            "[[0.0 1.0 0.0 -0.5611215605408258 0.10239929221853813]\n",
            " [0.0 0.0 1.0 -0.1971508185683981 0.10239929221853813]]\n"
          ]
        }
      ]
    }
  ],
  "metadata": {
    "colab": {
      "provenance": []
    },
    "kernelspec": {
      "display_name": "Python 3",
      "name": "python3"
    },
    "language_info": {
      "name": "python"
    }
  },
  "nbformat": 4,
  "nbformat_minor": 0
}