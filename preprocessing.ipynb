{
  "cells": [
    {
      "cell_type": "code",
      "execution_count": 62,
      "metadata": {
        "id": "q93Uurjosy1q"
      },
      "outputs": [],
      "source": [
        "import numpy as np\n",
        "import matplotlib.pyplot as plt\n",
        "import pandas as pd"
      ]
    },
    {
      "cell_type": "code",
      "execution_count": 63,
      "metadata": {
        "id": "tA-Xk2jyudfq"
      },
      "outputs": [],
      "source": [
        "dataset = pd.read_csv('Data.csv')\n",
        "x = dataset.iloc[:, :-1].values\n",
        "y = dataset.iloc[:, -1].values"
      ]
    },
    {
      "cell_type": "code",
      "execution_count": 64,
      "metadata": {
        "colab": {
          "base_uri": "https://localhost:8080/"
        },
        "id": "WRkOdF3LufPK",
        "outputId": "ac967cc9-100b-462a-e7dc-ffe253a40ca8"
      },
      "outputs": [
        {
          "output_type": "stream",
          "name": "stdout",
          "text": [
            "[['Indonesia' 44.0 62000.0]\n",
            " ['Brazil' 40.0 94000.0]\n",
            " ['China' 22.0 73000.0]\n",
            " ['Indonesia' 21.0 81000.0]\n",
            " ['China' 12.0 nan]\n",
            " ['Brazil' 35.0 28000.0]\n",
            " ['Brazil' nan 52000.0]\n",
            " ['Indonesia' 32.0 79000.0]\n",
            " ['China' 14.0 99000.0]\n",
            " ['Indonesia' 26.0 73000.0]]\n"
          ]
        }
      ],
      "source": [
        "print(x)"
      ]
    },
    {
      "cell_type": "code",
      "execution_count": 68,
      "metadata": {
        "colab": {
          "base_uri": "https://localhost:8080/"
        },
        "id": "oEarKmkcugE6",
        "outputId": "a3e8874a-e102-4cbe-90b9-aa215bc0829b"
      },
      "outputs": [
        {
          "output_type": "stream",
          "name": "stdout",
          "text": [
            "['Ya' 'Ya' 'Ya' 'Tidak' 'Ya' 'Tidak' 'Tidak' 'Ya' 'Tidak' 'Tidak']\n"
          ]
        }
      ],
      "source": [
        "print(y)"
      ]
    },
    {
      "cell_type": "code",
      "source": [
        "from sklearn.impute import SimpleImputer\n",
        "imputer = SimpleImputer(missing_values=np.nan, strategy='mean')\n",
        "imputer.fit(x[:, 1:3])\n",
        "x[:, 1:3] = imputer.transform(x[:, 1:3])"
      ],
      "metadata": {
        "id": "nphrG49s_vu7"
      },
      "execution_count": 69,
      "outputs": []
    },
    {
      "cell_type": "code",
      "source": [
        "print(x)"
      ],
      "metadata": {
        "colab": {
          "base_uri": "https://localhost:8080/"
        },
        "id": "we8W-kEO_xkx",
        "outputId": "2a478eda-224a-4074-9052-a008e4d610bd"
      },
      "execution_count": 70,
      "outputs": [
        {
          "output_type": "stream",
          "name": "stdout",
          "text": [
            "[['Indonesia' 44.0 62000.0]\n",
            " ['Brazil' 40.0 94000.0]\n",
            " ['China' 22.0 73000.0]\n",
            " ['Indonesia' 21.0 81000.0]\n",
            " ['China' 12.0 71222.22222222222]\n",
            " ['Brazil' 35.0 28000.0]\n",
            " ['Brazil' 27.333333333333332 52000.0]\n",
            " ['Indonesia' 32.0 79000.0]\n",
            " ['China' 14.0 99000.0]\n",
            " ['Indonesia' 26.0 73000.0]]\n"
          ]
        }
      ]
    },
    {
      "cell_type": "code",
      "source": [
        "from sklearn.compose import ColumnTransformer\n",
        "from sklearn.preprocessing import OneHotEncoder\n",
        "ct = ColumnTransformer(transformers=[('encoder', OneHotEncoder(), [0])], remainder='passthrough')\n",
        "x = np.array(ct.fit_transform(x))"
      ],
      "metadata": {
        "id": "d3sgEJt__0fp"
      },
      "execution_count": 71,
      "outputs": []
    },
    {
      "cell_type": "code",
      "source": [
        "print(x)"
      ],
      "metadata": {
        "colab": {
          "base_uri": "https://localhost:8080/"
        },
        "id": "CjTWBxgQ_2Yh",
        "outputId": "f902fe4b-75a4-4535-c383-d5c50a5e21ea"
      },
      "execution_count": 72,
      "outputs": [
        {
          "output_type": "stream",
          "name": "stdout",
          "text": [
            "[[0.0 0.0 1.0 44.0 62000.0]\n",
            " [1.0 0.0 0.0 40.0 94000.0]\n",
            " [0.0 1.0 0.0 22.0 73000.0]\n",
            " [0.0 0.0 1.0 21.0 81000.0]\n",
            " [0.0 1.0 0.0 12.0 71222.22222222222]\n",
            " [1.0 0.0 0.0 35.0 28000.0]\n",
            " [1.0 0.0 0.0 27.333333333333332 52000.0]\n",
            " [0.0 0.0 1.0 32.0 79000.0]\n",
            " [0.0 1.0 0.0 14.0 99000.0]\n",
            " [0.0 0.0 1.0 26.0 73000.0]]\n"
          ]
        }
      ]
    },
    {
      "cell_type": "code",
      "source": [
        "from sklearn.preprocessing import LabelEncoder\n",
        "le = LabelEncoder()\n",
        "y = le.fit_transform(y)"
      ],
      "metadata": {
        "id": "ZGKNuHLU_7sR"
      },
      "execution_count": 73,
      "outputs": []
    },
    {
      "cell_type": "code",
      "source": [
        "print(y)"
      ],
      "metadata": {
        "colab": {
          "base_uri": "https://localhost:8080/"
        },
        "id": "suQsCF4W_96p",
        "outputId": "ed169027-21b1-4618-bda8-9f8142f02aa2"
      },
      "execution_count": 74,
      "outputs": [
        {
          "output_type": "stream",
          "name": "stdout",
          "text": [
            "[1 1 1 0 1 0 0 1 0 0]\n"
          ]
        }
      ]
    },
    {
      "cell_type": "code",
      "source": [
        "from sklearn.model_selection import train_test_split\n",
        "x_train, x_test, y_train, y_test = train_test_split(x, y, test_size=0.2, random_state=1)"
      ],
      "metadata": {
        "id": "BABk1uyn__uB"
      },
      "execution_count": 75,
      "outputs": []
    },
    {
      "cell_type": "code",
      "source": [
        "print(x_train)"
      ],
      "metadata": {
        "colab": {
          "base_uri": "https://localhost:8080/"
        },
        "id": "M4meAgREF74R",
        "outputId": "7a736f73-1b1f-460b-c667-d7db5237a1aa"
      },
      "execution_count": 76,
      "outputs": [
        {
          "output_type": "stream",
          "name": "stdout",
          "text": [
            "[[1.0 0.0 0.0 27.333333333333332 52000.0]\n",
            " [0.0 1.0 0.0 12.0 71222.22222222222]\n",
            " [0.0 0.0 1.0 44.0 62000.0]\n",
            " [0.0 0.0 1.0 21.0 81000.0]\n",
            " [1.0 0.0 0.0 40.0 94000.0]\n",
            " [0.0 0.0 1.0 32.0 79000.0]\n",
            " [0.0 1.0 0.0 14.0 99000.0]\n",
            " [1.0 0.0 0.0 35.0 28000.0]]\n"
          ]
        }
      ]
    },
    {
      "cell_type": "code",
      "source": [
        "print(x_test)"
      ],
      "metadata": {
        "colab": {
          "base_uri": "https://localhost:8080/"
        },
        "id": "6KN-rPSVF__p",
        "outputId": "131767aa-2796-4e23-8da5-3633f5cba639"
      },
      "execution_count": 77,
      "outputs": [
        {
          "output_type": "stream",
          "name": "stdout",
          "text": [
            "[[0.0 1.0 0.0 22.0 73000.0]\n",
            " [0.0 0.0 1.0 26.0 73000.0]]\n"
          ]
        }
      ]
    },
    {
      "cell_type": "code",
      "source": [
        "print(y_train)"
      ],
      "metadata": {
        "id": "7V1_nIiZGfPa",
        "outputId": "b3ed69f8-cde8-4201-a0f4-88ba018a9f4d",
        "colab": {
          "base_uri": "https://localhost:8080/"
        }
      },
      "execution_count": 82,
      "outputs": [
        {
          "output_type": "stream",
          "name": "stdout",
          "text": [
            "[0 1 1 0 1 1 0 0]\n"
          ]
        }
      ]
    },
    {
      "cell_type": "code",
      "source": [
        "print(y_test)"
      ],
      "metadata": {
        "colab": {
          "base_uri": "https://localhost:8080/"
        },
        "id": "JcixDyXyGDaJ",
        "outputId": "ed6446f6-1f24-408f-d3d9-e9b2a42fa7c1"
      },
      "execution_count": 78,
      "outputs": [
        {
          "output_type": "stream",
          "name": "stdout",
          "text": [
            "[1 0]\n"
          ]
        }
      ]
    },
    {
      "cell_type": "code",
      "source": [
        "from sklearn.preprocessing import StandardScaler\n",
        "sc = StandardScaler()\n",
        "x_train[:, 3:] = sc.fit_transform(x_train[:, 3:])\n",
        "x_test[:, 3:] = sc.transform(x_test[:, 3:])"
      ],
      "metadata": {
        "id": "b7NZo62IGGMT"
      },
      "execution_count": 79,
      "outputs": []
    },
    {
      "cell_type": "code",
      "source": [
        "print(x_train)"
      ],
      "metadata": {
        "colab": {
          "base_uri": "https://localhost:8080/"
        },
        "id": "7lwD_02lGIYp",
        "outputId": "a02989d4-8247-4879-896e-f07cd634afe2"
      },
      "execution_count": 80,
      "outputs": [
        {
          "output_type": "stream",
          "name": "stdout",
          "text": [
            "[[1.0 0.0 0.0 -0.07582723791092233 -0.8652740192466486]\n",
            " [0.0 1.0 0.0 -1.471048415471895 0.02047985844370736]\n",
            " [0.0 0.0 1.0 1.4407175203075266 -0.40447720426322636]\n",
            " [0.0 0.0 1.0 -0.6521142460339328 0.4710367442052759]\n",
            " [1.0 0.0 0.0 1.0767467783350988 1.070072603683725]\n",
            " [0.0 0.0 1.0 0.34880529439024344 0.3788773812085915]\n",
            " [0.0 1.0 0.0 -1.2890630444856812 1.300471011175436]\n",
            " [1.0 0.0 0.0 0.6217833508695643 -1.971186375206862]]\n"
          ]
        }
      ]
    },
    {
      "cell_type": "code",
      "source": [
        "print(x_test)"
      ],
      "metadata": {
        "colab": {
          "base_uri": "https://localhost:8080/"
        },
        "id": "1mntSkGlGKFS",
        "outputId": "aabeae9e-ac6e-47c4-b8d4-4ce3480a32f3"
      },
      "execution_count": 81,
      "outputs": [
        {
          "output_type": "stream",
          "name": "stdout",
          "text": [
            "[[0.0 1.0 0.0 -0.5611215605408258 0.10239929221853813]\n",
            " [0.0 0.0 1.0 -0.1971508185683981 0.10239929221853813]]\n"
          ]
        }
      ]
    }
  ],
  "metadata": {
    "colab": {
      "provenance": []
    },
    "kernelspec": {
      "display_name": "Python 3",
      "name": "python3"
    },
    "language_info": {
      "name": "python"
    }
  },
  "nbformat": 4,
  "nbformat_minor": 0
}